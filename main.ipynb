{
  "nbformat": 4,
  "nbformat_minor": 0,
  "metadata": {
    "colab": {
      "provenance": [],
      "collapsed_sections": [],
      "machine_shape": "hm"
    },
    "kernelspec": {
      "name": "python3",
      "display_name": "Python 3"
    },
    "language_info": {
      "name": "python"
    },
    "accelerator": "GPU"
  },
  "cells": [
    {
      "cell_type": "markdown",
      "source": [
        "# Gigantic_MuMIMO_ViterbiBasedNet - juypiter notebook format"
      ],
      "metadata": {
        "id": "UDAztne4fAWo"
      }
    },
    {
      "cell_type": "code",
      "execution_count": null,
      "metadata": {
        "id": "Yf94FXafVf1U"
      },
      "outputs": [],
      "source": [
        "#@title setup using git clone\n",
        "!git clone \"https://github.com/idancz/Gigantic_MuMIMO_ViterbiBasedNet.git\"\n",
        "from google.colab import drive\n",
        "import os\n",
        "import sys\n",
        "path = \"/content/Gigantic_MuMIMO_ViterbiBasedNet\"\n",
        "%cd $path\n",
        "%ls -a\n",
        "# importing all links\n",
        "def add_directory(curr_dir):\n",
        "  for dir_name in os.listdir(curr_dir):        \n",
        "    dir_path = os.path.join(curr_dir, dir_name)   \n",
        "    if os.path.isdir(dir_path):\n",
        "      #print(\"adding directory \"+dir_path+\"...\")\n",
        "      sys.path.insert(0, dir_path)    \n",
        "      add_directory(dir_path)\n",
        "# add all directory to OS path recursively\n",
        "add_directory(\"./\")"
      ]
    },
    {
      "cell_type": "code",
      "source": [
        "#@title Executing main.py\n",
        "from Code.dir_definitions import *\n",
        "from Code.plotter import get_ser_data, plot_ser_by_block_index, plot_ser_by_snr, plot_summary_table\n",
        "from Code.trainer import Trainer\n",
        "\n",
        "\n",
        "\n",
        "def execute_and_plot(model_name, detector_method, self_supervised, all_curves, current_params, run_over):\n",
        "    method_name = model_name + \"_\" + detector_method\n",
        "    trainer = Trainer(\n",
        "                    model_name=model_name,\n",
        "                    detector_method=detector_method,\n",
        "                    self_supervised=self_supervised,\n",
        "                    weights_dir=os.path.join(WEIGHTS_DIR,\n",
        "                    f'{method_name}_training_{HYPERPARAMS_DICT[\"val_block_length\"]}_{HYPERPARAMS_DICT[\"n_symbols\"]}_channel1_{HYPERPARAMS_DICT[\"channel_coefficients\"]}'),\n",
        "                    **HYPERPARAMS_DICT)\n",
        "\n",
        "    ser = get_ser_data(trainer, run_over=run_over, method_name=method_name + '_' + current_params)\n",
        "    all_curves.append((ser, model_name, HYPERPARAMS_DICT['val_block_length'], HYPERPARAMS_DICT['n_symbols']))\n",
        "\n",
        "\n",
        "HYPERPARAMS_DICT = {\n",
        "                    'noisy_est_var': 0,\n",
        "                    'fading_taps_type': 1,  # 1 / 2  for time decay only\n",
        "                    'fading_in_channel': True,\n",
        "                    'fading_in_decoder': True,\n",
        "                    'gamma': 0.2,\n",
        "                    'channel_type': 'ISI_AWGN',\n",
        "                    'val_frames': 12,  # up to 12 for cost2100\n",
        "                    'subframes_in_frame': 25,  # up to 25 for cost2100\n",
        "                    'self_supervised_iterations': 200,\n",
        "                    'ser_thresh': 0.02,  # ser threshold for online training\n",
        "                    'train_minibatch_num': 25,  # 25\n",
        "                    }\n",
        "\n",
        "\n",
        "if __name__ == '__main__':\n",
        "    # main flags\n",
        "    run_over = 0  # 0 - load plots from previous runs if exists / 1 - load trained weights and start online evaluation / 2 - clear all and start training  from scratch\n",
        "    plot_by_block = False  # False / True either plot by SNR or by block index\n",
        "    block_length = 120     # determine the transmission length\n",
        "    channel_coefficients = 'cost2100'  # 'time_decay' / 'cost2100'\n",
        "    n_symbol = 2\n",
        "    snr_start, snr_end = 7, 15\n",
        "\n",
        "    # deep learning models list 'ADNN', 'Sionna', 'SionnaPlus', 'Transformer', 'LSTM', 'ViterbiNet'\n",
        "    models_list = ['ADNN', 'Sionna', 'SionnaPlus', 'Transformer', 'LSTM', 'ViterbiNet', 'ClassicViterbi']\n",
        "    detector_method = 'ModelBased'  # ModelBased / EndToEnd / Statistical\n",
        "    self_supervised = True  # True / False for online evaluation enablement\n",
        "\n",
        "    all_curves = []\n",
        "\n",
        "    for snr in range(snr_start, snr_end+1):\n",
        "        print(snr, block_length, n_symbol)\n",
        "\n",
        "        HYPERPARAMS_DICT['n_symbols'] = n_symbol\n",
        "        HYPERPARAMS_DICT['curr_SNR'] = snr\n",
        "        HYPERPARAMS_DICT['val_block_length'] = block_length\n",
        "        HYPERPARAMS_DICT['train_block_length'] = block_length\n",
        "        HYPERPARAMS_DICT['fading_in_channel'] = True if channel_coefficients == 'time_decay' else False\n",
        "        HYPERPARAMS_DICT['channel_coefficients'] = channel_coefficients\n",
        "\n",
        "        current_params = HYPERPARAMS_DICT['channel_coefficients'] + '_' + str(HYPERPARAMS_DICT['curr_SNR']) + '_' + \\\n",
        "                         str(HYPERPARAMS_DICT['val_block_length']) + '_' + str(HYPERPARAMS_DICT['n_symbols'])\n",
        "\n",
        "        for model in models_list:\n",
        "            if model == 'ClassicViterbi':\n",
        "                execute_and_plot(model, 'Statistical', False, all_curves, current_params, run_over)  # Classic Viterbi Alg with Perfect-CSI\n",
        "            else:\n",
        "                execute_and_plot(model, detector_method, self_supervised, all_curves, current_params, run_over)\n",
        "\n",
        "        if plot_by_block:\n",
        "            plot_ser_by_block_index(all_curves, block_length, n_symbol, snr)\n",
        "\n",
        "    snr_values = [s for s in range(snr_start, snr_end+1)]\n",
        "    if not plot_by_block:\n",
        "        plot_ser_by_snr(all_curves, snr_values)\n",
        "\n",
        "    plot_summary_table(all_curves, models_list, snr_values)"
      ],
      "metadata": {
        "id": "xA8LzHf1V_Ck"
      },
      "execution_count": null,
      "outputs": []
    }
  ]
}