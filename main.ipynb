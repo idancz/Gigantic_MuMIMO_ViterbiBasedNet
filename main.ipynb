{
  "nbformat": 4,
  "nbformat_minor": 0,
  "metadata": {
    "colab": {
      "provenance": [],
      "collapsed_sections": [],
      "machine_shape": "hm",
      "authorship_tag": "ABX9TyMf3aoA7XbpwUWaae6WzK4i",
      "include_colab_link": true
    },
    "kernelspec": {
      "name": "python3",
      "display_name": "Python 3"
    },
    "language_info": {
      "name": "python"
    },
    "accelerator": "GPU"
  },
  "cells": [
    {
      "cell_type": "markdown",
      "metadata": {
        "id": "view-in-github",
        "colab_type": "text"
      },
      "source": [
        "<a href=\"https://colab.research.google.com/github/idancz/Gigantic_MuMIMO_ViterbiBasedNet/blob/master/main.ipynb\" target=\"_parent\"><img src=\"https://colab.research.google.com/assets/colab-badge.svg\" alt=\"Open In Colab\"/></a>"
      ]
    },
    {
      "cell_type": "markdown",
      "source": [
        "# Gigantic_MuMIMO_ViterbiBasedNet - juypiter notebook format"
      ],
      "metadata": {
        "id": "UDAztne4fAWo"
      }
    },
    {
      "cell_type": "code",
      "execution_count": null,
      "metadata": {
        "id": "Yf94FXafVf1U"
      },
      "outputs": [],
      "source": [
        "#@title setup using git clone\n",
        "!git clone \"https://github.com/idancz/Gigantic_MuMIMO_ViterbiBasedNet.git\"\n",
        "from google.colab import drive\n",
        "import os\n",
        "import sys\n",
        "path = \"/content/Gigantic_MuMIMO_ViterbiBasedNet\"\n",
        "%cd $path\n",
        "%ls -a\n",
        "# importing all links\n",
        "def add_directory(curr_dir):\n",
        "  for dir_name in os.listdir(curr_dir):        \n",
        "    dir_path = os.path.join(curr_dir, dir_name)   \n",
        "    if os.path.isdir(dir_path):\n",
        "      #print(\"adding directory \"+dir_path+\"...\")\n",
        "      sys.path.insert(0, dir_path)    \n",
        "      add_directory(dir_path)\n",
        "# add all directory to OS path recursively\n",
        "add_directory(\"./\")"
      ]
    },
    {
      "cell_type": "code",
      "source": [
        "#@title Executing main.py\n",
        "from Code.dir_definitions import *\n",
        "from Code.plotter import get_ser_data, plot_ser_by_block_index, plot_ser_by_snr\n",
        "from Code.trainer import Trainer\n",
        "\n",
        "def execute_and_plot(model_name, detector_method, self_supervised, all_curves, current_params, run_over):\n",
        "    method_name = model_name + \"_\" + detector_method\n",
        "    trainer = Trainer(\n",
        "                    model_name=model_name,\n",
        "                    detector_method=detector_method,\n",
        "                    self_supervised=self_supervised,\n",
        "                    weights_dir=os.path.join(WEIGHTS_DIR,\n",
        "                    f'{method_name}_training_{HYPERPARAMS_DICT[\"val_block_length\"]}_{HYPERPARAMS_DICT[\"n_symbols\"]}_channel1_{HYPERPARAMS_DICT[\"channel_coefficients\"]}'),\n",
        "                    **HYPERPARAMS_DICT)\n",
        "\n",
        "    ser = get_ser_data(trainer, run_over=run_over, method_name=method_name + '_' + current_params)\n",
        "    all_curves.append((ser, model_name, HYPERPARAMS_DICT['val_block_length'], HYPERPARAMS_DICT['n_symbols']))\n",
        "\n",
        "\n",
        "HYPERPARAMS_DICT = {\n",
        "                    'noisy_est_var': 0,\n",
        "                    'fading_taps_type': 1,  # 1 / 2  for time decay only\n",
        "                    'fading_in_channel': True,\n",
        "                    'fading_in_decoder': True,\n",
        "                    'gamma': 0.2,\n",
        "                    'channel_type': 'ISI_AWGN',\n",
        "                    'val_frames': 12,  # up to 12 for cost2100\n",
        "                    'subframes_in_frame': 25,  # up to 25 for cost2100\n",
        "                    'self_supervised_iterations': 200,\n",
        "                    'ser_thresh': 0.02,  # ser threshold for online training\n",
        "                    'train_minibatch_num': 25,  # 25\n",
        "                    }\n",
        "\n",
        "\n",
        "if __name__ == '__main__':\n",
        "    # main flags\n",
        "    run_over = 2  # 0 - load plots from previous runs / 1 - load trained weights and start online evaluation / 2 - clear all and start training  from scratch\n",
        "    plot_by_block = False  # False / True either plot by SNR or by block index\n",
        "    block_length = 120     # determine the transmission length\n",
        "    channel_coefficients = 'cost2100'  # 'time_decay' / 'cost2100'\n",
        "    n_symbol = 2\n",
        "    snr_start, snr_end = 7, 15\n",
        "\n",
        "    # deep learning models list 'ADNN', 'Sionna', 'SionnaPlus', 'Transformer', 'LSTM', 'ViterbiNet'\n",
        "    models_list = ['ADNN', 'Sionna', 'SionnaPlus', 'Transformer', 'LSTM', 'ViterbiNet']\n",
        "    detector_method = 'ModelBased'  # ModelBased / EndToEnd / Statistical\n",
        "    self_supervised = True  # True / False for online evaluation enablement\n",
        "\n",
        "    all_curves = []\n",
        "\n",
        "    for snr in range(snr_start, snr_end+1):\n",
        "        print(snr, block_length, n_symbol)\n",
        "\n",
        "        HYPERPARAMS_DICT['n_symbols'] = n_symbol\n",
        "        HYPERPARAMS_DICT['curr_SNR'] = snr\n",
        "        HYPERPARAMS_DICT['val_block_length'] = block_length\n",
        "        HYPERPARAMS_DICT['train_block_length'] = block_length\n",
        "        HYPERPARAMS_DICT['fading_in_channel'] = True if channel_coefficients == 'time_decay' else False\n",
        "        HYPERPARAMS_DICT['channel_coefficients'] = channel_coefficients\n",
        "\n",
        "        current_params = HYPERPARAMS_DICT['channel_coefficients'] + '_' + str(HYPERPARAMS_DICT['curr_SNR']) + '_' + \\\n",
        "                         str(HYPERPARAMS_DICT['val_block_length']) + '_' + str(HYPERPARAMS_DICT['n_symbols'])\n",
        "\n",
        "        for model in models_list:\n",
        "            execute_and_plot(model, detector_method, self_supervised, all_curves, current_params, run_over)\n",
        "\n",
        "        execute_and_plot('ClassicViterbi', 'Statistical', False, all_curves, current_params, run_over)  # Classic Viterbi Alg with Perfect-CSI\n",
        "\n",
        "        if plot_by_block:\n",
        "            plot_ser_by_block_index(all_curves, block_length, n_symbol, snr)\n",
        "\n",
        "    snr_values = [s for s in range(snr_start, snr_end+1)]\n",
        "    if not plot_by_block:\n",
        "        plot_ser_by_snr(all_curves, snr_values)"
      ],
      "metadata": {
        "id": "xA8LzHf1V_Ck"
      },
      "execution_count": null,
      "outputs": []
    },
    {
      "cell_type": "code",
      "source": [
        "#@title displaying tabular results\n",
        "import torch\n",
        "import numpy as np\n",
        "import pandas as pd\n",
        "models_list = ['ADNN', 'Sionna', 'SionnaPlus', 'Transformer','LSTM', 'ViterbiNet']\n",
        "df = pd.DataFrame(all_curves,columns =['BER', 'NET','InfoBits', 'Modulation'])\n",
        "#adnn = df[df.NET == 'ADNN']\n",
        "#model_ber = df[df.NET == model]\n",
        "#model_ber.index = snr_values\n",
        "#adnn.mean(axis = 1, skipna = True)\n",
        "results = np.zeros((len(snr_values),len(models_list)))\n",
        "i=0\n",
        "j=0\n",
        "for snr in snr_values:    \n",
        "    j=0\n",
        "    for model in models_list:  \n",
        "      #print(j)\n",
        "      model_ber = df[df.NET == model]\n",
        "      model_ber.index = snr_values\n",
        "      results[i,j] = model_ber[['BER']].loc[snr].mean(axis = 0, skipna = True).mean()\n",
        "      j+=1      \n",
        "    i+=1\n",
        "res = pd.DataFrame(results,columns=models_list)\n",
        "res.index = snr_values\n",
        "print(res)\n"
      ],
      "metadata": {
        "id": "Gllt2De6xvPy"
      },
      "execution_count": null,
      "outputs": []
    }
  ]
}
